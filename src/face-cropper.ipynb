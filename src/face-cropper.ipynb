{
 "cells": [
  {
   "cell_type": "markdown",
   "metadata": {},
   "source": [
    "# Crop faces using annotations"
   ]
  },
  {
   "cell_type": "code",
   "execution_count": 1,
   "metadata": {},
   "outputs": [],
   "source": [
    "from data_prep import *\n",
    "from PIL import Image\n",
    "from tqdm.notebook import tqdm"
   ]
  },
  {
   "cell_type": "markdown",
   "metadata": {},
   "source": [
    "Crops the faces after padding by 50%"
   ]
  },
  {
   "cell_type": "code",
   "execution_count": 2,
   "metadata": {},
   "outputs": [],
   "source": [
    "# def crop_images(image_path):\n",
    "#     face_path = image_path/\"cropped\"/\"face\"\n",
    "#     face_mask_path = image_path/\"cropped\"/\"face_mask\"\n",
    "#     if not os.path.exists(face_path): os.makedirs(face_path)\n",
    "#     if not os.path.exists(face_mask_path): os.makedirs(face_mask_path)\n",
    "#     errors = 0\n",
    "    \n",
    "#     k = 0\n",
    "    \n",
    "#     for im in tqdm(os.listdir(image_path)):\n",
    "#         k += 1\n",
    "#         if(k > 10): break\n",
    "        \n",
    "#         try:\n",
    "#             img = Image.open(image_path/im)\n",
    "#             for i, bbox in enumerate(list(zip(img2bbox[im][1], img2bbox[im][0]))):\n",
    "#                 cat, box = bbox[0], bbox[1]\n",
    "#                 crop_img = img.crop((box[0], box[1], box[2], box[3]))\n",
    "#                 new_img = crop_img.resize((224,224))\n",
    "#                 fname = im[:-4] + f\"_{i}\" + im[-4:]\n",
    "#                 new_img.save(image_path/\"cropped\"/cat/fname)\n",
    "        \n",
    "#         except:\n",
    "#             errors += 1\n",
    "#             print(f\"{errors} errors occured\")"
   ]
  },
  {
   "cell_type": "code",
   "execution_count": 3,
   "metadata": {},
   "outputs": [],
   "source": [
    "# crop_images(Path(\"D:/Datasets/COVID-19-mask-detection/training/images\"))"
   ]
  },
  {
   "cell_type": "code",
   "execution_count": 4,
   "metadata": {},
   "outputs": [],
   "source": [
    "# crop_images(Path(\"D:/Datasets/COVID-19-mask-detection/validation/images\"))"
   ]
  },
  {
   "cell_type": "code",
   "execution_count": 12,
   "metadata": {},
   "outputs": [],
   "source": [
    "def crop_pad(image_path, scale=0.5):\n",
    "    #50% increase in both dimensions\n",
    "    face_path = image_path/\"cropped\"/\"face\"\n",
    "    face_mask_path = image_path/\"cropped\"/\"face_mask\"\n",
    "    if not os.path.exists(face_path): os.makedirs(face_path)\n",
    "    if not os.path.exists(face_mask_path): os.makedirs(face_mask_path)\n",
    "    errors = 0\n",
    "    \n",
    "    for im in tqdm(os.listdir(image_path)):\n",
    "        try:\n",
    "            img = Image.open(image_path/im)\n",
    "            for i, bbox in enumerate(list(zip(img2bbox[im][1], img2bbox[im][0]))):\n",
    "                cat, box = bbox[0], bbox[1]\n",
    "\n",
    "                w, h = img.size\n",
    "\n",
    "                xpixels = int((box[2] - box[0]) * scale)\n",
    "                ypixels = int((box[3] - box[1]) * scale)\n",
    "\n",
    "                xmin = max(box[0] - xpixels, 0.)\n",
    "                ymin = max(box[1] - ypixels, 0.)\n",
    "                xmax = min(box[2] + xpixels, w)\n",
    "                ymax = min(box[3] + ypixels, h)\n",
    "\n",
    "                crop_img = img.crop((xmin, ymin, xmax, ymax))\n",
    "                new_img = crop_img.resize((224,224))\n",
    "                fname = im[:-4] + f\"_{i}\" + im[-4:]\n",
    "                new_img.save(image_path/\"cropped\"/cat/fname)\n",
    "        \n",
    "        except:\n",
    "            errors += 1\n",
    "            print(f\"{errors} errors occured\")\n",
    "\n",
    "    os.rename(image_path/\"cropped\"/\"face\", image_path/\"cropped\"/\"face_FULL\")"
   ]
  },
  {
   "cell_type": "code",
   "execution_count": 13,
   "metadata": {},
   "outputs": [
    {
     "data": {
      "application/vnd.jupyter.widget-view+json": {
       "model_id": "233801d14b9c4d1d869230171dc19496",
       "version_major": 2,
       "version_minor": 0
      },
      "text/plain": [
       "HBox(children=(FloatProgress(value=0.0, max=4392.0), HTML(value='')))"
      ]
     },
     "metadata": {},
     "output_type": "display_data"
    },
    {
     "name": "stdout",
     "output_type": "stream",
     "text": [
      "1 errors occured\n",
      "2 errors occured\n",
      "3 errors occured\n",
      "4 errors occured\n",
      "5 errors occured\n",
      "6 errors occured\n",
      "7 errors occured\n",
      "8 errors occured\n",
      "9 errors occured\n",
      "10 errors occured\n",
      "11 errors occured\n",
      "12 errors occured\n",
      "13 errors occured\n",
      "14 errors occured\n",
      "15 errors occured\n",
      "16 errors occured\n",
      "\n"
     ]
    }
   ],
   "source": [
    "crop_pad(Path(\"D:/Datasets/COVID-19-mask-detection/training/images\"))"
   ]
  },
  {
   "cell_type": "code",
   "execution_count": 14,
   "metadata": {},
   "outputs": [
    {
     "data": {
      "application/vnd.jupyter.widget-view+json": {
       "model_id": "2d42f6acbde349a1af40c4a98d973bf0",
       "version_major": 2,
       "version_minor": 0
      },
      "text/plain": [
       "HBox(children=(FloatProgress(value=0.0, max=1586.0), HTML(value='')))"
      ]
     },
     "metadata": {},
     "output_type": "display_data"
    },
    {
     "name": "stdout",
     "output_type": "stream",
     "text": [
      "1 errors occured\n",
      "2 errors occured\n",
      "3 errors occured\n",
      "4 errors occured\n",
      "5 errors occured\n",
      "6 errors occured\n",
      "7 errors occured\n",
      "8 errors occured\n",
      "9 errors occured\n",
      "10 errors occured\n",
      "11 errors occured\n",
      "\n"
     ]
    }
   ],
   "source": [
    "crop_pad(Path(\"D:/Datasets/COVID-19-mask-detection/validation/images\"))"
   ]
  },
  {
   "cell_type": "code",
   "execution_count": null,
   "metadata": {},
   "outputs": [],
   "source": []
  }
 ],
 "metadata": {
  "kernelspec": {
   "display_name": "Python [conda env:fastai-torch1.1] *",
   "language": "python",
   "name": "conda-env-fastai-torch1.1-py"
  },
  "language_info": {
   "codemirror_mode": {
    "name": "ipython",
    "version": 3
   },
   "file_extension": ".py",
   "mimetype": "text/x-python",
   "name": "python",
   "nbconvert_exporter": "python",
   "pygments_lexer": "ipython3",
   "version": "3.6.10"
  }
 },
 "nbformat": 4,
 "nbformat_minor": 4
}
